{
 "cells": [
  {
   "cell_type": "code",
   "execution_count": null,
   "metadata": {
    "dotnet_interactive": {
     "language": "csharp"
    },
    "vscode": {
     "languageId": "dotnet-interactive.csharp"
    }
   },
   "outputs": [],
   "source": [
    "/*Is Palindrome*/\n",
    "\n",
    "display($\"{IsPalindrome(\"anna\")} - true\");\n",
    "display($\"{IsPalindrome(\"anne\")} - false\");\n",
    "display($\"{IsPalindrome(\"Anna\")} - true\");\n",
    "display($\"{IsPalindrome(\"Race car\")} - true\");\n",
    "display($\"{IsPalindrome(\"An na\")} - true\");\n",
    "display($\"{IsPalindrome(\"An na\")} - true\");\n",
    "display($\"{IsPalindrome(\"\")} - true\"); // true\n",
    "display($\"{IsPalindrome(\"1010\")} - false\"); // false\n",
    "display($\"{IsPalindrome(\"taco Cat\")} - true\"); // true\n",
    "display($\"{IsPalindrome(\"Was it a car or a cat I saw?\")} - true\"); // true\n",
    "display($\"{IsPalindrome(\"hello\")} - false\"); // false\n",
    "display($\"{IsPalindrome(\"momma made me eat my m&ms\")} - false\"); //false\n",
    "\n",
    "bool IsPalindrome(string text) {\n",
    "    text = text.ToLower();\n",
    "    var start = 0;\n",
    "    var end = text.Length -1;\n",
    "\n",
    "    while(start < end){\n",
    "        var left = text[start];\n",
    "        var right = text[end];\n",
    "\n",
    "        if (!char.IsLetterOrDigit(left)){\n",
    "            start++;\n",
    "            continue;\n",
    "        }\n",
    "\n",
    "        if (!char.IsLetterOrDigit(right)){\n",
    "            end--;\n",
    "            continue;\n",
    "        }\n",
    "        \n",
    "        if (left != right)\n",
    "            return false;\n",
    "\n",
    "        start++;\n",
    "        end--;\n",
    "    }\n",
    "\n",
    "\n",
    "    return true;\n",
    "}"
   ]
  },
  {
   "cell_type": "code",
   "execution_count": null,
   "metadata": {
    "dotnet_interactive": {
     "language": "csharp"
    },
    "vscode": {
     "languageId": "dotnet-interactive.csharp"
    }
   },
   "outputs": [
    {
     "data": {
      "text/plain": [
       "4796231"
      ]
     },
     "metadata": {},
     "output_type": "display_data"
    },
    {
     "data": {
      "text/plain": [
       "231"
      ]
     },
     "metadata": {},
     "output_type": "display_data"
    }
   ],
   "source": [
    "/* InvertTree */\n",
    "\n",
    "\n",
    "//Definition for a binary tree node.\n",
    "\n",
    "public class TreeNode {\n",
    "    public int val;\n",
    "    public TreeNode left;\n",
    "    public TreeNode right;\n",
    "    public TreeNode(int val=0, TreeNode left=null, TreeNode right=null) {\n",
    "        this.val = val;\n",
    "        this.left = left;\n",
    "        this.right = right;\n",
    "    }\n",
    "\n",
    "    public override string ToString(){        \n",
    "        if (this is null)\n",
    "            return \"\";\n",
    "        \n",
    "        var result = this.val.ToString();\n",
    "        if (this.left is not null)\n",
    "            result += this.left.ToString();\n",
    "        if (this.right is not null)\n",
    "            result += this.right.ToString();\n",
    "        return result;\n",
    "    }\n",
    "}\n",
    "\n",
    "display(new Solution().InvertTree(new TreeNode { val = 4, \n",
    "    left = new TreeNode { \n",
    "        val = 2,\n",
    "        left = new TreeNode { \n",
    "            val = 1,\n",
    "        },\n",
    "        right = new TreeNode { \n",
    "            val = 3,\n",
    "        } \n",
    "    },\n",
    "    right = new TreeNode { \n",
    "        val = 7,\n",
    "        left = new TreeNode { \n",
    "            val = 6,\n",
    "        },\n",
    "        right = new TreeNode { \n",
    "            val = 9,\n",
    "        } \n",
    "    }\n",
    "    }).ToString());\n",
    "\n",
    "display(new Solution().InvertTree(new TreeNode { val = 2, \n",
    "    left = new TreeNode { \n",
    "        val = 1,\n",
    "    },\n",
    "    right = new TreeNode { \n",
    "        val = 3,\n",
    "    }\n",
    "    }).ToString());\n",
    "\n",
    " public class Solution {\n",
    "    public TreeNode InvertTree(TreeNode root) {     \n",
    "        \n",
    "        if (root is null)\n",
    "            return root;\n",
    "            \n",
    "        var tmp = root.left;\n",
    "        root.left = root.right;\n",
    "        root.right = tmp;\n",
    "\n",
    "        InvertTree(root.left);\n",
    "        InvertTree(root.right);\n",
    "        \n",
    "        return root;\n",
    "    }\n",
    "}"
   ]
  }
 ],
 "metadata": {
  "kernelspec": {
   "display_name": ".NET (C#)",
   "language": "C#",
   "name": ".net-csharp"
  },
  "language_info": {
   "name": "C#"
  }
 },
 "nbformat": 4,
 "nbformat_minor": 2
}
