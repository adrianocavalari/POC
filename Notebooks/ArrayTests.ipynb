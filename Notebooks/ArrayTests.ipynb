{
 "cells": [
  {
   "cell_type": "markdown",
   "metadata": {},
   "source": []
  },
  {
   "cell_type": "code",
   "execution_count": null,
   "metadata": {
    "dotnet_interactive": {
     "language": "csharp"
    },
    "vscode": {
     "languageId": "dotnet-interactive.csharp"
    }
   },
   "outputs": [],
   "source": [
    "/** Utils Func */\n",
    "\n",
    "string ArrayToString<T>(T[] array){\n",
    "    return string.Join(\", \", array);\n",
    "}\n",
    "\n",
    "string ArrayToString<T>(List<T> array){\n",
    "    return string.Join(\", \", array);\n",
    "}"
   ]
  },
  {
   "cell_type": "code",
   "execution_count": null,
   "metadata": {
    "dotnet_interactive": {
     "language": "csharp"
    },
    "vscode": {
     "languageId": "dotnet-interactive.csharp"
    }
   },
   "outputs": [],
   "source": [
    "/*Is Palindrome O(n) */\n",
    "\n",
    "display($\"{IsPalindrome(\"anna\")} - true\");\n",
    "display($\"{IsPalindrome(\"anne\")} - false\");\n",
    "display($\"{IsPalindrome(\"Anna\")} - true\");\n",
    "display($\"{IsPalindrome(\"Race car\")} - true\");\n",
    "display($\"{IsPalindrome(\"An na\")} - true\");\n",
    "display($\"{IsPalindrome(\"An na\")} - true\");\n",
    "display($\"{IsPalindrome(\"\")} - true\"); // true\n",
    "display($\"{IsPalindrome(\"1010\")} - false\"); // false\n",
    "display($\"{IsPalindrome(\"taco Cat\")} - true\"); // true\n",
    "display($\"{IsPalindrome(\"Was it a car or a cat I saw?\")} - true\"); // true\n",
    "display($\"{IsPalindrome(\"hello\")} - false\"); // false\n",
    "display($\"{IsPalindrome(\"momma made me eat my m&ms\")} - false\"); //false\n",
    "\n",
    "bool IsPalindrome(string text) {\n",
    "    text = text.ToLower();\n",
    "    var start = 0;\n",
    "    var end = text.Length -1;\n",
    "\n",
    "    while(start < end){\n",
    "        var left = text[start];\n",
    "        var right = text[end];\n",
    "\n",
    "        if (!char.IsLetterOrDigit(left)){\n",
    "            start++;\n",
    "            continue;\n",
    "        }\n",
    "\n",
    "        if (!char.IsLetterOrDigit(right)){\n",
    "            end--;\n",
    "            continue;\n",
    "        }\n",
    "        \n",
    "        if (left != right)\n",
    "            return false;\n",
    "\n",
    "        start++;\n",
    "        end--;\n",
    "    }\n",
    "\n",
    "\n",
    "    return true;\n",
    "}"
   ]
  },
  {
   "cell_type": "code",
   "execution_count": null,
   "metadata": {
    "dotnet_interactive": {
     "language": "csharp"
    },
    "vscode": {
     "languageId": "dotnet-interactive.csharp"
    }
   },
   "outputs": [],
   "source": [
    "/* InvertTree */\n",
    "\n",
    "\n",
    "//Definition for a binary tree node.\n",
    "\n",
    "public class TreeNode {\n",
    "    public int val;\n",
    "    public TreeNode left;\n",
    "    public TreeNode right;\n",
    "    public TreeNode(int val=0, TreeNode left=null, TreeNode right=null) {\n",
    "        this.val = val;\n",
    "        this.left = left;\n",
    "        this.right = right;\n",
    "    }\n",
    "\n",
    "    public override string ToString(){        \n",
    "        if (this is null)\n",
    "            return \"\";\n",
    "        \n",
    "        var result = this.val.ToString();\n",
    "        if (this.left is not null)\n",
    "            result += this.left.ToString();\n",
    "        if (this.right is not null)\n",
    "            result += this.right.ToString();\n",
    "        return result;\n",
    "    }\n",
    "}\n",
    "\n",
    "display(new Solution().InvertTree(new TreeNode { val = 4, \n",
    "    left = new TreeNode { \n",
    "        val = 2,\n",
    "        left = new TreeNode { \n",
    "            val = 1,\n",
    "        },\n",
    "        right = new TreeNode { \n",
    "            val = 3,\n",
    "        } \n",
    "    },\n",
    "    right = new TreeNode { \n",
    "        val = 7,\n",
    "        left = new TreeNode { \n",
    "            val = 6,\n",
    "        },\n",
    "        right = new TreeNode { \n",
    "            val = 9,\n",
    "        } \n",
    "    }\n",
    "    }).ToString());\n",
    "\n",
    "display(new Solution().InvertTree(new TreeNode { val = 2, \n",
    "    left = new TreeNode { \n",
    "        val = 1,\n",
    "    },\n",
    "    right = new TreeNode { \n",
    "        val = 3,\n",
    "    }\n",
    "    }).ToString());\n",
    "\n",
    " public class Solution {\n",
    "    public TreeNode InvertTree(TreeNode root) {     \n",
    "        \n",
    "        if (root is null)\n",
    "            return root;\n",
    "            \n",
    "        var tmp = root.left;\n",
    "        root.left = root.right;\n",
    "        root.right = tmp;\n",
    "\n",
    "        InvertTree(root.left);\n",
    "        InvertTree(root.right);\n",
    "        \n",
    "        return root;\n",
    "    }\n",
    "}"
   ]
  },
  {
   "cell_type": "code",
   "execution_count": null,
   "metadata": {
    "dotnet_interactive": {
     "language": "csharp"
    },
    "vscode": {
     "languageId": "dotnet-interactive.csharp"
    }
   },
   "outputs": [],
   "source": [
    "/* FizzBuzz */\n",
    "\n",
    "display($\"{Solution.FizzBuzz(3)} ---- 1, 2, Fizz\");\n",
    "display($\"{Solution.FizzBuzz(5)} ---- 1, 2, Fizz, 4, Buzz\");\n",
    "display($\"{Solution.FizzBuzz(15)} ---- 1, 2, Fizz, 4, Buzz, Fizz, 7, 8, Fizz, Buzz, 11, Fizz, 13, 14, FizzBuzz\");\n",
    "\n",
    "public static class Solution {\n",
    "    public static string FizzBuzz(int n) {\n",
    "        var list = new List<string>();\n",
    "        \n",
    "        for(var i = 1; i <= n; i++){\n",
    "            var text = string.Empty;\n",
    "            \n",
    "            if (i % 3 == 0)\n",
    "                text = \"Fizz\";\n",
    "            \n",
    "            if (i % 5 == 0)\n",
    "                text += \"Buzz\";\n",
    "            \n",
    "            if (string.IsNullOrEmpty(text))\n",
    "                text = i.ToString();\n",
    "            \n",
    "            list.Add(text);\n",
    "        }\n",
    "        \n",
    "        return string.Join(\", \", list);\n",
    "    }\n",
    "}"
   ]
  },
  {
   "cell_type": "code",
   "execution_count": null,
   "metadata": {
    "dotnet_interactive": {
     "language": "csharp"
    },
    "vscode": {
     "languageId": "dotnet-interactive.csharp"
    }
   },
   "outputs": [],
   "source": [
    "/* Find closest number in 2 arrays */\n",
    "\n",
    "// NOTE: You can use the following input values to test this function.\n",
    "int[] a1 = {-1, 3, 8, 2, 9, 5};\n",
    "int[] a2 = {4, 1, 2, 10, 5, 20};\n",
    "int aTarget = 24;\n",
    "display(closestSumPair(a1, a2, aTarget));\n",
    "\n",
    "int[] b1 = {7, 4, 1, 10};\n",
    "int[] b2 = {4, 5, 8, 7};\n",
    "int bTarget = 13;\n",
    "// closestSumPair(b1, b2, bTarget) should return {4, 8}, {7, 7}, {7, 5}, or {10, 4}\n",
    "\n",
    "int[] c1 = {6, 8, -1, -8, -3};\n",
    "int[] c2 = {4, -6, 2, 9, -3};\n",
    "int cTarget = 3;\n",
    "// closestSumPair(c1, c2, cTarget) should return {-1, 4} or {6, -3}\n",
    "\n",
    "int[] d1 = {19, 14, 6, 11, -16, 14, -16, -9, 16, 13};\n",
    "int[] d2 = {13, 9, -15, -2, -18, 16, 17, 2, -11, -7};\n",
    "int dTarget = -15;\n",
    "// closestSumPair(d1, d2, dTarget) should return {-16, 2}, {-9, -7}\n",
    "\n",
    "// a1 and a2 are the given arrays, and target is the target sum.\n",
    "// It should return an array of two numbers as the result,\n",
    "// one from each array.\n",
    "public static string closestSumPair(int[] a1Sorted, int[] a2Sorted, int target) {\n",
    "    Array.Sort(a1Sorted);\n",
    "    Array.Sort(a2Sorted);\n",
    "\n",
    "    int i = 0;\n",
    "    int j = a2Sorted.Length - 1;\n",
    "    // -1 + 4 - 24 = 21\n",
    "    int smallestDiff = Math.Abs(a1Sorted[0] + a2Sorted[0] - target);\n",
    "    \n",
    "    int[] closestPair = {a1Sorted[0], a2Sorted[0]};\n",
    "\n",
    "    while (i < a1Sorted.Length && j >= 0 ) {\n",
    "        int v1 = a1Sorted[i];\n",
    "        int v2 = a2Sorted[j];\n",
    "        // -1 + 20 - 24 = -4\n",
    "        int currentDiff = v1 + v2 - target;\n",
    "        \n",
    "        // -4 < 21\n",
    "        if (Math.Abs(currentDiff) < smallestDiff) {\n",
    "            smallestDiff = Math.Abs(currentDiff);\n",
    "            closestPair[0] = v1; closestPair[1] = v2;\n",
    "        }\n",
    "\n",
    "        if (currentDiff == 0) {\n",
    "            return string.Join(\", \", closestPair);\n",
    "        }\n",
    "        else if (currentDiff < 0) {\n",
    "            i += 1;\n",
    "        }\n",
    "        else {\n",
    "            j -= 1;\n",
    "        }\n",
    "    }\n",
    "\n",
    "    return string.Join(\", \", closestPair);\n",
    "}\n"
   ]
  },
  {
   "cell_type": "code",
   "execution_count": null,
   "metadata": {
    "dotnet_interactive": {
     "language": "csharp"
    },
    "vscode": {
     "languageId": "dotnet-interactive.csharp"
    }
   },
   "outputs": [],
   "source": [
    "/**  Merge Sort\n",
    "https://www.c-sharpcorner.com/blogs/a-simple-merge-sort-implementation-c-sharp\n",
    "\n",
    "*/\n",
    "\n",
    "display(string.Join(\", \", MergeSort(new[] { 38,27,43,3,9,82,10})));\n",
    "\n",
    "int[] MergeSort(int[] array){\n",
    "    if (array.Length < 2) return array;\n",
    "    \n",
    "    var mid = (int)Math.Floor(array.Length / 2M);\n",
    "    //mid++;\n",
    "\n",
    "    var left = array[0..mid];\n",
    "    var right = array[mid..array.Length];\n",
    "    left = MergeSort(left);\n",
    "    right = MergeSort(right);\n",
    "    \n",
    "    return Merge(left,right);\n",
    "}\n",
    "\n",
    "int[] Merge(int[] left, int[] right){\n",
    "    var result = new List<int>();\n",
    "    var i = 0;\n",
    "    var j = 0;\n",
    "\n",
    "    while(i < left.Length || j < right.Length){\n",
    "        if (i < left.Length && j < right.Length){\n",
    "            if(left[i] < right[j]){\n",
    "                result.Add(left[i]);\n",
    "                i++;\n",
    "            }else{\n",
    "                result.Add(right[j]);\n",
    "                j++;\n",
    "            }\n",
    "        }           \n",
    "        \n",
    "        else if(i < left.Length){\n",
    "            result.Add(left[i]);\n",
    "            i++;\n",
    "        }    \n",
    "\n",
    "        else if(j < right.Length){\n",
    "            result.Add(right[j]);\n",
    "            j++;\n",
    "        }\n",
    "    }\n",
    "    \n",
    "    return result.ToArray();\n",
    "}"
   ]
  },
  {
   "cell_type": "code",
   "execution_count": null,
   "metadata": {
    "dotnet_interactive": {
     "language": "csharp"
    },
    "vscode": {
     "languageId": "dotnet-interactive.csharp"
    }
   },
   "outputs": [],
   "source": [
    "/** Two Sum */\n",
    "\n",
    "display(ArrayToString(TwoSum(new[] { 2, 7, 11, 15} , 9))); // 0, 1\n",
    "display(ArrayToString(TwoSum(new[] { 2, 2, 11, 7, 15, 7} , 9))); // 0, 1\n",
    "\n",
    "display(ArrayToString(TwoSum(new[] { 7, 2, 13, 11, -11} , 0))); // 3, 4\n",
    "display(ArrayToString(TwoSum(new[] { 7, 2, 13, 10, -11} , -1))); // 3, 4\n",
    "display(ArrayToString(TwoSum(new[] { -3, 4, 3, 90}, 0))); // 3, 4\n",
    "\n",
    "public int[] TwoSum(int[] nums, int target) {\n",
    "    var hash = new Dictionary<int, int>();\n",
    "    \n",
    "    for(var i =0; i< nums.Length; i++){\n",
    "        var req = target - nums[i];\n",
    "        \n",
    "        if(hash.ContainsKey(req)){\n",
    "            return new[] { hash[req], i };\n",
    "        }\n",
    "        \n",
    "        hash[nums[i]] = i;\n",
    "    }\n",
    "    \n",
    "    return new[] { hash[0] };\n",
    "}\n"
   ]
  },
  {
   "cell_type": "code",
   "execution_count": null,
   "metadata": {
    "dotnet_interactive": {
     "language": "csharp"
    },
    "vscode": {
     "languageId": "dotnet-interactive.csharp"
    }
   },
   "outputs": [],
   "source": [
    "/** Quick sort */\n",
    "\n",
    "display(ArrayToString(QuickSort(new[] {5,2,3,1})));\n",
    "\n",
    "int[] QuickSort(int[] array, int start = 0, int end = 0) {\n",
    "    if(end == 0)\n",
    "        end = array.Length - 1;\n",
    "\n",
    "    if (start >= end || end < 0)\n",
    "        return array;\n",
    "   \n",
    "    var partition = Partition(ref array, start, end);\n",
    "    // number = QuickSort(array, start, partition - 1);\n",
    "    // number = QuickSort(array, partition + 1, end);\n",
    "\n",
    "    return array;\n",
    "}\n",
    "\n",
    "int Partition(ref int[] array, int start, int end) {\n",
    "    var pivot = array[end];\n",
    "\n",
    "    var i = start;\n",
    "\n",
    "    for(var j = start; j < end; j++){\n",
    "        display($\"{array[j]} <= {pivot}\");\n",
    "        if (array[j] <= pivot){\n",
    "            swap(ref array, i, j);\n",
    "            i++;\n",
    "        }\n",
    "    }\n",
    "\n",
    "    return i;\n",
    "}\n",
    "\n",
    "void swap(ref int[] array, int i, int j){\n",
    "    var temp = array[i];\n",
    "    array[i] = array[j];\n",
    "    array[j] = temp;\n",
    "}\n"
   ]
  },
  {
   "cell_type": "code",
   "execution_count": null,
   "metadata": {
    "dotnet_interactive": {
     "language": "csharp"
    },
    "vscode": {
     "languageId": "dotnet-interactive.csharp"
    }
   },
   "outputs": [],
   "source": [
    "int Partition(ref int[] intArray, int low, int high) {\n",
    "    // Pivot is set to the last element   \n",
    "    var pivot = intArray[high];\n",
    "    display($\"pivot: {pivot}\");\n",
    "    var i = low-1;\n",
    " \n",
    "    for (var j = low; j <= high; j++) {\n",
    "        display($\"{intArray[j]} <= {pivot}\");\n",
    "        if (intArray[j] <= pivot) {\n",
    "            i++;\n",
    "            swap(ref array, i, j);\n",
    "           \n",
    "        }\n",
    "    }\n",
    "\n",
    "    return i;\n",
    "}\n",
    " \n",
    "int[] Sort(int[] intArray, int low, int high) {\n",
    "    if (low < high) {\n",
    "        var p = Partition(ref intArray, low, high);\n",
    "        intArray = Sort(intArray, low, p - 1);\n",
    "        intArray = Sort(intArray, p + 1, high);\n",
    "    }\n",
    " \n",
    "    return intArray;\n",
    "}\n",
    "\n",
    "void swap(ref int[] array, int i, int j){\n",
    "    var temp = array[i];\n",
    "    array[i] = array[j];\n",
    "    array[j] = temp;\n",
    "}\n",
    " \n",
    "var array = new[] {5,2,3,1};\n",
    "\n",
    "display(ArrayToString(Sort(array, 0, array.Length - 1)));"
   ]
  },
  {
   "cell_type": "code",
   "execution_count": null,
   "metadata": {
    "dotnet_interactive": {
     "language": "csharp"
    },
    "vscode": {
     "languageId": "dotnet-interactive.csharp"
    }
   },
   "outputs": [
    {
     "data": {
      "text/html": [
       "<div class=\"dni-plaintext\">1</div>"
      ]
     },
     "metadata": {},
     "output_type": "display_data"
    },
    {
     "data": {
      "text/html": [
       "<div class=\"dni-plaintext\">2</div>"
      ]
     },
     "metadata": {},
     "output_type": "display_data"
    },
    {
     "data": {
      "text/html": [
       "<div class=\"dni-plaintext\">3</div>"
      ]
     },
     "metadata": {},
     "output_type": "display_data"
    },
    {
     "data": {
      "text/html": [
       "<div class=\"dni-plaintext\">5</div>"
      ]
     },
     "metadata": {},
     "output_type": "display_data"
    },
    {
     "data": {
      "text/plain": [
       "1, 2, 3, 5"
      ]
     },
     "metadata": {},
     "output_type": "display_data"
    }
   ],
   "source": [
    "/** Selection sort */\n",
    "\n",
    "//With list\n",
    "int SelectSmallest(int[] array){\n",
    "\n",
    "    var smallest = array[0];\n",
    "    var index = 0;\n",
    "    for(var i=1; i<array.Length; i++){\n",
    "        if(array[i] < smallest){\n",
    "            smallest = array[i];\n",
    "            index = i;\n",
    "        }\n",
    "    }\n",
    "\n",
    "    return index;\n",
    "}\n",
    "\n",
    "List<int> SelectionSort(List<int> array){\n",
    "    var result = new List<int>();\n",
    "    while(array.Count > 0){\n",
    "        var smallest = SelectSmallest(array.ToArray());\n",
    "        \n",
    "        result.Add(array[smallest]);\n",
    "        array.RemoveAt(smallest);\n",
    "    }\n",
    "\n",
    "    return result;\n",
    "}\n",
    "\n",
    "//With array like in grokking algorithms selection sort\n",
    "int SelectSmallest(int[] array, int startIndex){\n",
    "    var smallest = array[0];\n",
    "    var index = startIndex;\n",
    "    for(var i=startIndex; i<array.Length; i++){\n",
    "        if(array[i] < smallest){\n",
    "            smallest = array[i];\n",
    "            index = i;\n",
    "        }\n",
    "    }\n",
    "\n",
    "    return index;\n",
    "}\n",
    "\n",
    "int[] SelectionSort(int[] array){\n",
    "    for(var i=0; i<array.Length; i++){\n",
    "        var smallest = SelectSmallest(array, i);\n",
    "\n",
    "        var temp = array[i];\n",
    "        array[i] = array[smallest];\n",
    "        array[smallest] = temp;\n",
    "    }\n",
    "\n",
    "    return array;\n",
    "}\n",
    "\n",
    "//Right way in c#\n",
    "int[] SelectionSortRight(int[] array){    \n",
    "    for(var i=0; i<array.Length; i++){\n",
    "        var smallest = i;\n",
    "\n",
    "        for(var j=i+1; j<array.Length; j++){\n",
    "            if(array[j] < array[smallest]){\n",
    "                smallest = j;\n",
    "            }\n",
    "        }\n",
    "        \n",
    "        var temp = array[i];\n",
    "        array[i] = array[smallest];\n",
    "        array[smallest] = temp;\n",
    "    }\n",
    "\n",
    "    return array;\n",
    "}\n",
    "// display(ArrayToString(SelectionSort(new List<int> {5,2,3,1})));\n",
    "// display(ArrayToString(SelectionSort(new[] {5,2,3,1})));\n",
    "display(ArrayToString(SelectionSortRight(new[] {5,2,1,3})));"
   ]
  }
 ],
 "metadata": {
  "kernelspec": {
   "display_name": ".NET (C#)",
   "language": "C#",
   "name": ".net-csharp"
  },
  "language_info": {
   "name": "C#"
  }
 },
 "nbformat": 4,
 "nbformat_minor": 2
}
