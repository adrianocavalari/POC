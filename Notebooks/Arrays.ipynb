{
 "cells": [
  {
   "cell_type": "code",
   "execution_count": null,
   "metadata": {
    "dotnet_interactive": {
     "language": "csharp"
    },
    "vscode": {
     "languageId": "dotnet-interactive.csharp"
    }
   },
   "outputs": [],
   "source": [
    "var array = new int[3];\n",
    "\n",
    "Console.WriteLine(string.Join(\", \", array));"
   ]
  },
  {
   "cell_type": "code",
   "execution_count": null,
   "metadata": {
    "dotnet_interactive": {
     "language": "csharp"
    },
    "vscode": {
     "languageId": "dotnet-interactive.csharp"
    }
   },
   "outputs": [
    {
     "ename": "Error",
     "evalue": "(1,19): error CS0121: The call is ambiguous between the following methods or properties: 'Array.CreateInstance(Type, params int[])' and 'Array.CreateInstance(Type, params long[])'",
     "output_type": "error",
     "traceback": [
      "(1,19): error CS0121: The call is ambiguous between the following methods or properties: 'Array.CreateInstance(Type, params int[])' and 'Array.CreateInstance(Type, params long[])'"
     ]
    }
   ],
   "source": [
    "var array = Array.CreateInstance(typeof(int), 1);\n",
    "\n",
    "array.SetValue(10, 0);\n",
    "array.SetValue(20, 1);\n",
    "\n",
    "Console.WriteLine(string.Join(\", \", array));"
   ]
  },
  {
   "cell_type": "code",
   "execution_count": null,
   "metadata": {
    "dotnet_interactive": {
     "language": "csharp"
    },
    "vscode": {
     "languageId": "dotnet-interactive.csharp"
    }
   },
   "outputs": [],
   "source": [
    "var array = new ArrayList<int>();\n",
    "\n"
   ]
  }
 ],
 "metadata": {
  "kernelspec": {
   "display_name": ".NET (C#)",
   "language": "C#",
   "name": ".net-csharp"
  },
  "language_info": {
   "file_extension": ".cs",
   "mimetype": "text/x-csharp",
   "name": "C#",
   "pygments_lexer": "csharp",
   "version": "9.0"
  },
  "orig_nbformat": 4
 },
 "nbformat": 4,
 "nbformat_minor": 2
}
