{
 "cells": [
  {
   "cell_type": "markdown",
   "metadata": {},
   "source": []
  },
  {
   "cell_type": "markdown",
   "metadata": {},
   "source": [
    "O(log(n)) or O(1) <- O(n) <- O(n log(n)) <- O(n^2) <- O(2^n) <- O(n!)\n",
    "\n",
    "Big O drop constant (using worse scenarios)"
   ]
  },
  {
   "cell_type": "code",
   "execution_count": null,
   "metadata": {
    "dotnet_interactive": {
     "language": "csharp"
    },
    "vscode": {
     "languageId": "dotnet-interactive.csharp"
    }
   },
   "outputs": [],
   "source": [
    "/** O(1) */\n",
    "int O_One(int num){\n",
    "    num++; // O(1)\n",
    "    return num;\n",
    "}"
   ]
  },
  {
   "cell_type": "code",
   "execution_count": null,
   "metadata": {
    "dotnet_interactive": {
     "language": "csharp"
    },
    "vscode": {
     "languageId": "dotnet-interactive.csharp"
    }
   },
   "outputs": [],
   "source": [
    "/** O(n) Grow linearly*/\n",
    "void O_N(int num){\n",
    "    for(var i =0; i< num; i++){ // O(n)\n",
    "        display(\"Bla Bla\"); // O(1)\n",
    "    }\n",
    "}\n",
    "\n",
    "void O_N2(int num, string names){ // O(n + m) == O(n)\n",
    "    for(var i =0; i< num; i++){ // O(n)\n",
    "        display(\"Bla Bla\"); // O(1)\n",
    "    }\n",
    "\n",
    "    for(var i =0; i< names.Length; i++){ // O(m)\n",
    "        display(\"Bla Bla\"); // O(1)\n",
    "    }\n",
    "}"
   ]
  },
  {
   "cell_type": "code",
   "execution_count": null,
   "metadata": {
    "dotnet_interactive": {
     "language": "csharp"
    },
    "vscode": {
     "languageId": "dotnet-interactive.csharp"
    }
   },
   "outputs": [],
   "source": [
    "/** O(n^2) */\n",
    "void O_NSquare(int num){\n",
    "    for(var i =0; i< num; i++){ // O(n)\n",
    "        for(var j =0; j< num; j++){ // O(n)\n",
    "            display(\"Bla Bla\"); // O(1)\n",
    "        }\n",
    "    }\n",
    "}\n",
    "\n",
    "// O(n) * O(n) = O(n^2)\n",
    "\n",
    "//Ignore constant - take bigger complexity \n",
    "\n",
    "/** O(n^2) */\n",
    "void O_NSquareComplexity(int num){ // O(n * n) O(n^2)\n",
    "    for(var i =0; i< num; i++){ // O(n)\n",
    "        for(var j =0; j< num; j++){ // O(n)\n",
    "            display(\"Bla Bla\"); // O(1)\n",
    "        }\n",
    "    }\n",
    "\n",
    "    for(var i =0; i< num; i++){ // O(n)\n",
    "        display(\"Bla Bla\"); // O(1)\n",
    "    }\n",
    "\n",
    "    for(var i =0; i< num; i++){ // O(n)\n",
    "        display(\"Bla Bla\"); // O(1)\n",
    "    }\n",
    "}\n",
    "\n",
    "// O(n) * O(n) + O(n) + O(n)\n",
    "// O(n^2) + 2 * O(n)\n",
    "// O(n^2) + O(n)\n",
    "// O(n^2)"
   ]
  },
  {
   "cell_type": "code",
   "execution_count": null,
   "metadata": {
    "dotnet_interactive": {
     "language": "csharp"
    },
    "vscode": {
     "languageId": "dotnet-interactive.csharp"
    }
   },
   "outputs": [],
   "source": [
    "/** O(n) * O(m) */\n",
    "void O_NMultiplyM(int num, int num2){\n",
    "    for(var i =0; i< num; i++){ // O(n)\n",
    "        for(var j =0; j< num2; j++){ // O(m)\n",
    "            display(\"Bla Bla\"); // O(1)\n",
    "        }\n",
    "    }\n",
    "}\n",
    "\n",
    "// O(n) * O(m)"
   ]
  },
  {
   "cell_type": "code",
   "execution_count": null,
   "metadata": {
    "dotnet_interactive": {
     "language": "csharp"
    },
    "vscode": {
     "languageId": "dotnet-interactive.csharp"
    }
   },
   "outputs": [
    {
     "data": {
      "text/plain": [
       "5"
      ]
     },
     "metadata": {},
     "output_type": "display_data"
    }
   ],
   "source": [
    "/** O(log(n)) \n",
    "    Binary search works on a sorted array. The value is compared with the middle element of the array. If equality is not found, then the half part is eliminated in which the value is not there. \n",
    "*/\n",
    "\n",
    "display(O_LogN(new[] {1, 5, 6, 9, 20}, 20));\n",
    "\n",
    "string O_LogN(int[] arr, int key){\n",
    "    int min = 0;\n",
    "    int max = arr.Length - 1; \n",
    "\n",
    "    while (min <=max)   // O(Log(n))\n",
    "    {  \n",
    "       int mid = (min + max) / 2;  \n",
    "       \n",
    "       if (key == arr[mid])  \n",
    "       {  \n",
    "            return (++mid).ToString();  \n",
    "       }  \n",
    "       else if (key < arr[mid])  \n",
    "       {  \n",
    "           max = mid - 1;  \n",
    "       }  \n",
    "       else  \n",
    "       {  \n",
    "            min = mid + 1;  \n",
    "       }  \n",
    "   }  \n",
    "   return \"Nil\";\n",
    "}\n",
    "\n",
    "object O_LogN_Recursive(int [] inputArray, int key, int min, int max)  \n",
    "{  \n",
    "      if (min > max)  \n",
    "      {  \n",
    "          return \"Nil\";  \n",
    "      }  \n",
    "      else  \n",
    "      {  \n",
    "          int mid = (min+max)/2;  \n",
    "          if (key == inputArray [mid])  \n",
    "          {  \n",
    "             return ++mid;  \n",
    "           }  \n",
    "           else if (key < inputArray [mid])  \n",
    "           {  \n",
    "               return O_LogN_Recursive(inputArray, key, min, mid - 1);  \n",
    "           }  \n",
    "           else  \n",
    "           {  \n",
    "              return O_LogN_Recursive(inputArray, key, mid + 1, max);  \n",
    "           }  \n",
    "      }  \n",
    " }"
   ]
  },
  {
   "cell_type": "code",
   "execution_count": null,
   "metadata": {
    "dotnet_interactive": {
     "language": "csharp"
    },
    "vscode": {
     "languageId": "dotnet-interactive.csharp"
    }
   },
   "outputs": [
    {
     "data": {
      "text/plain": [
       "5, 5"
      ]
     },
     "metadata": {},
     "output_type": "display_data"
    }
   ],
   "source": [
    "/** O(NLog(N)) \n",
    "    Binary search works on a sorted array. The value is compared with the middle element of the array. If equality is not found, then the half part is eliminated in which the value is not there. \n",
    "*/\n",
    "\n",
    "display(O_NLogN(new[] {1, 5, 6, 9, 20}, 20, 2));\n",
    "\n",
    "string O_NLogN(int[] arr, int key, int times){\n",
    "    var list = new List<string>();\n",
    "\n",
    "    for(var i = 0; i < times; i++){    // O(n)\n",
    "        list.Add(O_LogN(arr, key));\n",
    "    }\n",
    "    \n",
    "    return string.Join(\", \", list);\n",
    "}\n",
    "\n",
    "string O_LogN(int[] arr, int key){\n",
    "    int min = 0;\n",
    "    int max = arr.Length - 1; \n",
    "\n",
    "    while (min <=max)   // O(Log(n))\n",
    "    {  \n",
    "       int mid = (min + max) / 2;  \n",
    "       \n",
    "       if (key == arr[mid])  \n",
    "       {  \n",
    "            return (++mid).ToString();  \n",
    "       }  \n",
    "       else if (key < arr[mid])  \n",
    "       {  \n",
    "           max = mid - 1;  \n",
    "       }  \n",
    "       else  \n",
    "       {  \n",
    "            min = mid + 1;  \n",
    "       }  \n",
    "   }  \n",
    "   return \"Nil\";\n",
    "}\n",
    "\n",
    "// O(n) * O(Log(n))\n",
    "// O(NLog(n))"
   ]
  },
  {
   "cell_type": "markdown",
   "metadata": {},
   "source": [
    "Space complexity"
   ]
  },
  {
   "cell_type": "code",
   "execution_count": null,
   "metadata": {
    "dotnet_interactive": {
     "language": "csharp"
    },
    "vscode": {
     "languageId": "dotnet-interactive.csharp"
    }
   },
   "outputs": [],
   "source": [
    "/** O(1) Grow linearly*/\n",
    "void O_One(int num){\n",
    "    for(var i =0; i< num; i++){ // O(1) Space\n",
    "        display(\"Bla Bla\"); // O(1)\n",
    "    }\n",
    "}\n",
    "\n",
    "void O_N(string[] names){\n",
    "    var copy = new string[names.Length]; // O(n) space\n",
    "    for(var i =0; i< names.Length; i++){ // O(1) Space\n",
    "        display(\"Bla Bla\"); // O(1)\n",
    "    }\n",
    "}"
   ]
  }
 ],
 "metadata": {
  "kernelspec": {
   "display_name": ".NET (C#)",
   "language": "C#",
   "name": ".net-csharp"
  },
  "language_info": {
   "name": "C#"
  }
 },
 "nbformat": 4,
 "nbformat_minor": 2
}
