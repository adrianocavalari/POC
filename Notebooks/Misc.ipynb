{
 "cells": [
  {
   "cell_type": "code",
   "execution_count": null,
   "metadata": {
    "dotnet_interactive": {
     "language": "csharp"
    },
    "vscode": {
     "languageId": "dotnet-interactive.csharp"
    }
   },
   "outputs": [],
   "source": [
    "for(\n",
    "    var (f,l) = (1, 10);\n",
    "    f <= 10;\n",
    "    display($\"{f} + {l} = {f + l}\"),\n",
    "    //Console.WriteLine($\"{f} + {l} = {f + l}\"),\n",
    "    f++,\n",
    "    l--\n",
    ") {}"
   ]
  },
  {
   "cell_type": "code",
   "execution_count": null,
   "metadata": {
    "dotnet_interactive": {
     "language": "csharp"
    },
    "vscode": {
     "languageId": "dotnet-interactive.csharp"
    }
   },
   "outputs": [
    {
     "ename": "Error",
     "evalue": "(1,18): error CS8754: There is no target type for 'new()'",
     "output_type": "error",
     "traceback": [
      "(1,18): error CS8754: There is no target type for 'new()'"
     ]
    }
   ],
   "source": [
    "List<string> collection = new();\n",
    "\n",
    "display(collection.GetType().Name);"
   ]
  },
  {
   "cell_type": "code",
   "execution_count": null,
   "metadata": {
    "dotnet_interactive": {
     "language": "csharp"
    },
    "vscode": {
     "languageId": "dotnet-interactive.csharp"
    }
   },
   "outputs": [
    {
     "data": {
      "text/plain": [
       "Test 1"
      ]
     },
     "metadata": {},
     "output_type": "display_data"
    },
    {
     "data": {
      "text/plain": [
       "Test 2"
      ]
     },
     "metadata": {},
     "output_type": "display_data"
    },
    {
     "data": {
      "text/plain": [
       "Test 3"
      ]
     },
     "metadata": {},
     "output_type": "display_data"
    },
    {
     "data": {
      "text/plain": [
       "Test 1 Wow"
      ]
     },
     "metadata": {},
     "output_type": "display_data"
    },
    {
     "data": {
      "text/plain": [
       "Test 2 Wow"
      ]
     },
     "metadata": {},
     "output_type": "display_data"
    },
    {
     "data": {
      "text/plain": [
       "Test 3 Wow"
      ]
     },
     "metadata": {},
     "output_type": "display_data"
    },
    {
     "data": {
      "text/plain": [
       "This is Test 1 Wow"
      ]
     },
     "metadata": {},
     "output_type": "display_data"
    },
    {
     "data": {
      "text/plain": [
       "This is Test 2 Wow"
      ]
     },
     "metadata": {},
     "output_type": "display_data"
    },
    {
     "data": {
      "text/plain": [
       "This is Test 3 Wow"
      ]
     },
     "metadata": {},
     "output_type": "display_data"
    }
   ],
   "source": [
    "var advocates = new AdvocatesList { \"Test 1\", \"Test 2\", \"Test 3\" };\n",
    "\n",
    "var list = advocates[\"Wow\", 0, 1, 2];\n",
    "var list2 = advocates[\"This is\", \"Wow\", 0, 1, 2];\n",
    "\n",
    "foreach(var a in advocates){\n",
    "    display(a);\n",
    "}\n",
    "\n",
    "foreach(var a in list){\n",
    "    display(a);\n",
    "}\n",
    "\n",
    "foreach(var a in list2){\n",
    "    display(a);\n",
    "}\n",
    "\n",
    "public class AdvocatesList : List<string>\n",
    "{\n",
    "    public IEnumerable<string> this[string suffix, params int[] keys]\n",
    "        => keys.Select(key => $\"{this[key]} {suffix}\");\n",
    "\n",
    "    public IEnumerable<string> this[string prefix, string suffix, params int[] keys]\n",
    "        => keys.Select(key => $\"{prefix} {this[key]} {suffix}\");\n",
    "}"
   ]
  }
 ],
 "metadata": {
  "kernelspec": {
   "display_name": ".NET (C#)",
   "language": "C#",
   "name": ".net-csharp"
  },
  "language_info": {
   "name": "C#"
  }
 },
 "nbformat": 4,
 "nbformat_minor": 2
}
