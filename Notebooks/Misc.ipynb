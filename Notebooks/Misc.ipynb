{
 "cells": [
  {
   "cell_type": "code",
   "execution_count": null,
   "metadata": {
    "dotnet_interactive": {
     "language": "csharp"
    },
    "vscode": {
     "languageId": "dotnet-interactive.csharp"
    }
   },
   "outputs": [],
   "source": [
    "for(\n",
    "    var (f,l) = (1, 10);\n",
    "    f <= 10;\n",
    "    display($\"{f} + {l} = {f + l}\"),\n",
    "    //Console.WriteLine($\"{f} + {l} = {f + l}\"),\n",
    "    f++,\n",
    "    l--\n",
    ") {}"
   ]
  },
  {
   "cell_type": "code",
   "execution_count": null,
   "metadata": {
    "dotnet_interactive": {
     "language": "csharp"
    },
    "vscode": {
     "languageId": "dotnet-interactive.csharp"
    }
   },
   "outputs": [
    {
     "ename": "Error",
     "evalue": "(1,18): error CS8754: There is no target type for 'new()'",
     "output_type": "error",
     "traceback": [
      "(1,18): error CS8754: There is no target type for 'new()'"
     ]
    }
   ],
   "source": [
    "List<string> collection = new();\n",
    "\n",
    "display(collection.GetType().Name);"
   ]
  },
  {
   "cell_type": "code",
   "execution_count": null,
   "metadata": {
    "dotnet_interactive": {
     "language": "csharp"
    },
    "vscode": {
     "languageId": "dotnet-interactive.csharp"
    }
   },
   "outputs": [
    {
     "data": {
      "text/plain": [
       "Test 1"
      ]
     },
     "metadata": {},
     "output_type": "display_data"
    },
    {
     "data": {
      "text/plain": [
       "Test 2"
      ]
     },
     "metadata": {},
     "output_type": "display_data"
    },
    {
     "data": {
      "text/plain": [
       "Test 3"
      ]
     },
     "metadata": {},
     "output_type": "display_data"
    },
    {
     "data": {
      "text/plain": [
       "Test 1 Wow"
      ]
     },
     "metadata": {},
     "output_type": "display_data"
    },
    {
     "data": {
      "text/plain": [
       "Test 2 Wow"
      ]
     },
     "metadata": {},
     "output_type": "display_data"
    },
    {
     "data": {
      "text/plain": [
       "Test 3 Wow"
      ]
     },
     "metadata": {},
     "output_type": "display_data"
    },
    {
     "data": {
      "text/plain": [
       "This is Test 1 Wow"
      ]
     },
     "metadata": {},
     "output_type": "display_data"
    },
    {
     "data": {
      "text/plain": [
       "This is Test 2 Wow"
      ]
     },
     "metadata": {},
     "output_type": "display_data"
    },
    {
     "data": {
      "text/plain": [
       "This is Test 3 Wow"
      ]
     },
     "metadata": {},
     "output_type": "display_data"
    }
   ],
   "source": [
    "var advocates = new AdvocatesList { \"Test 1\", \"Test 2\", \"Test 3\" };\n",
    "\n",
    "var list = advocates[\"Wow\", 0, 1, 2];\n",
    "var list2 = advocates[\"This is\", \"Wow\", 0, 1, 2];\n",
    "\n",
    "foreach(var a in advocates){\n",
    "    display(a);\n",
    "}\n",
    "\n",
    "foreach(var a in list){\n",
    "    display(a);\n",
    "}\n",
    "\n",
    "foreach(var a in list2){\n",
    "    display(a);\n",
    "}\n",
    "\n",
    "public class AdvocatesList : List<string>\n",
    "{\n",
    "    public IEnumerable<string> this[string suffix, params int[] keys]\n",
    "        => keys.Select(key => $\"{this[key]} {suffix}\");\n",
    "\n",
    "    public IEnumerable<string> this[string prefix, string suffix, params int[] keys]\n",
    "        => keys.Select(key => $\"{prefix} {this[key]} {suffix}\");\n",
    "}"
   ]
  },
  {
   "cell_type": "code",
   "execution_count": null,
   "metadata": {
    "dotnet_interactive": {
     "language": "csharp"
    },
    "vscode": {
     "languageId": "dotnet-interactive.csharp"
    }
   },
   "outputs": [
    {
     "data": {
      "text/html": [
       "<div class=\"dni-plaintext\">4</div>"
      ]
     },
     "metadata": {},
     "output_type": "display_data"
    }
   ],
   "source": [
    "public int ReturnValue()  \n",
    "{  \n",
    "      MyInt x = new MyInt();  \n",
    "      x.MyValue = 3;  \n",
    "      var a = x.MyValue;\n",
    "      MyInt y;  \n",
    "      y = x;                  \n",
    "      y.MyValue = 4;  \n",
    "      a = 5;\n",
    "      return x.MyValue;  \n",
    "} \n",
    "\n",
    "public int ReturnValue2()  \n",
    "{  \n",
    "      MyInt x = new MyInt();  \n",
    "      x.MyValue = 3;  \n",
    "      var a = x.MyValue;\n",
    "      MyInt y;  \n",
    "      y = x;                  \n",
    "      y.MyValue = 4;  \n",
    "      a = 5;\n",
    "\n",
    "      \n",
    "      return x.ReturnValue(); \n",
    "} \n",
    "\n",
    "public class MyInt  \n",
    "{  \n",
    "       public int MyValue;  \n",
    "\n",
    "       public int ReturnValue()  \n",
    "      {  \n",
    "            MyValue = 10;\n",
    "            return MyValue;  \n",
    "      } \n",
    "}  \n",
    "\n",
    "display(ReturnValue())"
   ]
  }
 ],
 "metadata": {
  "kernelspec": {
   "display_name": ".NET (C#)",
   "language": "C#",
   "name": ".net-csharp"
  },
  "language_info": {
   "name": "C#"
  }
 },
 "nbformat": 4,
 "nbformat_minor": 2
}
