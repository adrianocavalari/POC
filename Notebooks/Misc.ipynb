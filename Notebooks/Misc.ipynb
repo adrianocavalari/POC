{
 "cells": [
  {
   "cell_type": "code",
   "execution_count": null,
   "metadata": {
    "dotnet_interactive": {
     "language": "csharp"
    },
    "vscode": {
     "languageId": "dotnet-interactive.csharp"
    }
   },
   "outputs": [
    {
     "data": {
      "text/html": [
       "<div class=\"dni-plaintext\">-1</div>"
      ]
     },
     "metadata": {},
     "output_type": "display_data"
    }
   ],
   "source": [
    "var names = new string[] {\"leets\", \"leetcode\"};\n",
    "\n",
    "display(names[1].IndexOf(names[0]));"
   ]
  },
  {
   "cell_type": "code",
   "execution_count": null,
   "metadata": {
    "dotnet_interactive": {
     "language": "csharp"
    },
    "vscode": {
     "languageId": "dotnet-interactive.csharp"
    }
   },
   "outputs": [
    {
     "data": {
      "text/plain": [
       "c"
      ]
     },
     "metadata": {},
     "output_type": "display_data"
    },
    {
     "data": {
      "text/plain": [
       "fl"
      ]
     },
     "metadata": {},
     "output_type": "display_data"
    }
   ],
   "source": [
    "public string LongestCommonPrefix(string[] strs) {\n",
    "    var first = strs[0];\n",
    "    var result = \"\";\n",
    "    \n",
    "    for(var i=0; i<first.Length;i++)\n",
    "    {        \n",
    "        var equals = 0;\n",
    "        for(var j=1; j<strs.Length; j++)\n",
    "        {\n",
    "            var word = strs[j];\n",
    "\n",
    "            if (word.Length > i && first[i] == word[i]){\n",
    "                equals++;\n",
    "            }else{\n",
    "                break;\n",
    "            }            \n",
    "        }\n",
    "        // if (equals == strs.Length - 1)\n",
    "        //     result += first[i];\n",
    "\n",
    "        if (equals == 0)\n",
    "            return first[0..i];\n",
    "    }\n",
    "    \n",
    "    return result;\n",
    "}\n",
    "\n",
    "display(LongestCommonPrefix(new string[] {\"cir\", \"car\"}));\n",
    "display(LongestCommonPrefix(new string[] {\"flower\",\"flow\",\"flight\"}));"
   ]
  }
 ],
 "metadata": {
  "kernelspec": {
   "display_name": ".NET (C#)",
   "language": "C#",
   "name": ".net-csharp"
  },
  "language_info": {
   "name": "C#"
  }
 },
 "nbformat": 4,
 "nbformat_minor": 2
}
